{
 "cells": [
  {
   "cell_type": "code",
   "execution_count": 2,
   "id": "9a7a45c1-016b-4786-bdf5-6ebd920cae3e",
   "metadata": {},
   "outputs": [
    {
     "data": {
      "text/plain": [
       "array([ 1,  2,  3,  4,  5,  6,  7,  8,  9, 10, 11, 12])"
      ]
     },
     "execution_count": 2,
     "metadata": {},
     "output_type": "execute_result"
    }
   ],
   "source": [
    "# Dependencies\n",
    "import numpy as np\n",
    "import matplotlib.pyplot as plt\n",
    "\n",
    " # Set x axis to numerical value for month\n",
    "x_axis_data = np.arange(1,13,1)\n",
    "x_axis_data"
   ]
  },
  {
   "cell_type": "code",
   "execution_count": null,
   "id": "a7ce73a4-c132-486b-a806-8047e430e998",
   "metadata": {},
   "outputs": [],
   "source": [
    " # Average weather temp\n",
    "points = [26.1, 25.3, 22.5, 20.6, 17.3, 14.5, 13.5, 15.8, 17.9, 19.2, 20.3, 24.7]"
   ]
  },
  {
   "cell_type": "code",
   "execution_count": null,
   "id": "6cd51500-d9e5-47a1-b8dd-4b4dd7fd5642",
   "metadata": {},
   "outputs": [],
   "source": []
  }
 ],
 "metadata": {
  "kernelspec": {
   "display_name": "Python 3 (ipykernel)",
   "language": "python",
   "name": "python3"
  },
  "language_info": {
   "codemirror_mode": {
    "name": "ipython",
    "version": 3
   },
   "file_extension": ".py",
   "mimetype": "text/x-python",
   "name": "python",
   "nbconvert_exporter": "python",
   "pygments_lexer": "ipython3",
   "version": "3.11.7"
  }
 },
 "nbformat": 4,
 "nbformat_minor": 5
}
